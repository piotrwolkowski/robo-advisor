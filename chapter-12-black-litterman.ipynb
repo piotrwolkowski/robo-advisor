{
 "cells": [
  {
   "cell_type": "code",
   "execution_count": 1,
   "metadata": {},
   "outputs": [],
   "source": [
    "import numpy as np\n",
    "import pandas as pd \n",
    "\n",
    "def compute_equilibrium_ers(weights, sigma, risk_aversion):\n",
    "    return risk_aversion * sigma @ weights\n",
    "\n",
    "def compute_posterior_mean(mu, C, A, b, omega):\n",
    "    c_inv = np.linalg.inv(C)\n",
    "    a_t_oinv = A.T @ np.linalg.inv(omega)\n",
    " \n",
    "    er = np.linalg.inv(c_inv + a_t_oinv @ A) @ (c_inv @ mu + a_t_oinv @ b)\n",
    " \n",
    "    return pd.Series(er, index=mu.index)\n",
    " \n",
    "def compute_posterior_cov(sigma, C, A, omega):\n",
    "    return sigma + np.linalg.inv((np.linalg.inv(C) + A.T @ omega @ A))"
   ]
  },
  {
   "cell_type": "code",
   "execution_count": 2,
   "metadata": {},
   "outputs": [
    {
     "name": "stderr",
     "output_type": "stream",
     "text": [
      "[*********************100%%**********************]  11 of 11 completed\n"
     ]
    }
   ],
   "source": [
    "# Example: US asset allocation\n",
    "\n",
    "import yfinance as yf\n",
    " \n",
    "tickers = ['VOX', 'VCR', 'VDC', 'VDE', 'VFH', 'VHT', 'VIS', 'VGT',\n",
    "           'VAW', 'VNQ', 'VPU']\n",
    "prices = yf.download(tickers, start='2018-01-01', end='2022-12-31')\n",
    "rets = prices['Adj Close'].pct_change()\n",
    "rets = rets.dropna(axis=0, how='any')[tickers]\n",
    "sigma = rets.cov() * 252\n",
    " \n",
    "weights = [.077, .107, .067, .048, .117, .143, .085, .273, .028, .027, .028]\n",
    "weights = pd.Series(weights, index=tickers)\n",
    "mu = compute_equilibrium_ers(weights, sigma, 1.4)\n",
    "\n",
    "# Split portfolio to defensive sector and cyclical sector.\n",
    "\n",
    "defensive = ['VDC', 'VHT', 'VPU']\n",
    "cyclical = ['VCR', 'VDE', 'VFH', 'VIS', 'VGT', 'VAW']\n",
    " \n",
    "defensive_port = weights[defensive] / weights[defensive].sum()\n",
    "cyclical_port = weights[cyclical] / weights[cyclical].sum()\n",
    " \n",
    "spread_port = pd.concat((defensive_port, -cyclical_port))\n",
    "real_estate_port = pd.Series([1], index = ['VNQ'])\n",
    " \n",
    "A = pd.DataFrame([spread_port, real_estate_port])\n",
    "A = A.T.reindex(tickers).fillna(0).T\n",
    " \n",
    "b = pd.Series([.01, .02])\n",
    "\n",
    "\n",
    "tau = 0.05\n",
    "omega = np.diag(np.diag(A @ (tau * sigma) @ A.T))\n",
    "post_mean = compute_posterior_mean(mu, tau * sigma, A, b, omega)\n",
    "post_cov = compute_posterior_cov(sigma, tau * sigma, A, omega)"
   ]
  },
  {
   "cell_type": "code",
   "execution_count": 4,
   "metadata": {},
   "outputs": [
    {
     "data": {
      "text/plain": [
       "Ticker\n",
       "VOX    3.262018e-08\n",
       "VCR    2.872106e-08\n",
       "VDC    2.420694e-08\n",
       "VDE    6.357255e-08\n",
       "VFH    3.911214e-03\n",
       "VHT    5.805927e-01\n",
       "VIS    5.716854e-08\n",
       "VGT    4.154958e-01\n",
       "VAW    8.043044e-08\n",
       "VNQ    2.168046e-08\n",
       "VPU    4.057979e-08\n",
       "dtype: float64"
      ]
     },
     "execution_count": 4,
     "metadata": {},
     "output_type": "execute_result"
    }
   ],
   "source": [
    "import cvxpy as cp\n",
    " \n",
    "w = cp.Variable(len(mu))\n",
    "market_vol = np.sqrt(weights @ sigma @ weights)\n",
    " \n",
    "objective = cp.Maximize(post_mean.values @ w)\n",
    "constraints = [cp.quad_form(w, sigma) <= market_vol ** 2,\n",
    "               cp.sum(w) == 1,\n",
    "               w >= 0]\n",
    "prob = cp.Problem(objective, constraints)\n",
    "result = prob.solve()\n",
    "w = pd.Series(w.value, index=mu.index)\n",
    "w"
   ]
  },
  {
   "cell_type": "code",
   "execution_count": null,
   "metadata": {},
   "outputs": [],
   "source": [
    "# Example: Global asset allocation including cryptocurrencies\n",
    "\n",
    "tickers = ['VTI', 'VEA', 'VWO', 'AGG', 'BTC-USD', 'ETH-USD']\n",
    "# Get weekly prices to avoid mismatch due to crypto being traded 24/7\n",
    "prices = yf.download(tickers, start='2018-01-01', end='2022-12-31',         \n",
    "                     interval='1wk')\n",
    "prices = prices['Adj Close'].dropna(axis=0, how='any')[tickers]\n",
    "rets = prices.pct_change()\n",
    "sigma = rets.cov() * 52\n",
    "\n",
    "weights = [.3401, .1559, .0708, .4269, .0045, .0018]\n",
    "weights = pd.Series(weights, index=tickers)\n",
    "mu = compute_equilibrium_ers(weights, sigma, 2.8)\n",
    " \n",
    "btc_port = pd.Series([1], index = ['BTC-USD'])\n",
    "eth_port = pd.Series([1], index = ['ETH-USD'])\n",
    "A = pd.DataFrame([btc_port, eth_port])\n",
    "A = A.T.reindex(tickers).fillna(0).T\n",
    "b = pd.Series([.10, .15])\n",
    "omega = np.diag([.05 ** 2, .05 ** 2])\n",
    " \n",
    "tau = 0.05\n",
    "post_mean = compute_posterior_mean(mu, tau * sigma, A, b, omega)\n",
    "post_cov = compute_posterior_cov(sigma, tau * sigma, A, omega)"
   ]
  }
 ],
 "metadata": {
  "kernelspec": {
   "display_name": "Python 3",
   "language": "python",
   "name": "python3"
  },
  "language_info": {
   "codemirror_mode": {
    "name": "ipython",
    "version": 3
   },
   "file_extension": ".py",
   "mimetype": "text/x-python",
   "name": "python",
   "nbconvert_exporter": "python",
   "pygments_lexer": "ipython3",
   "version": "3.10.12"
  }
 },
 "nbformat": 4,
 "nbformat_minor": 2
}
