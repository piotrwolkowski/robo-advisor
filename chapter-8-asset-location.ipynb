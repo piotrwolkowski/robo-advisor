{
 "cells": [
  {
   "cell_type": "code",
   "execution_count": 5,
   "metadata": {},
   "outputs": [],
   "source": [
    "import numpy as np\n",
    "\n",
    "class Asset():\n",
    "    def __init__(self, avg_ret=0.08, payout_rate=0.0, tax_rate_payout=0.2,\n",
    "                 tax_rate_cap_gains=0.2, tax_rate_ord_inc=0.35,\n",
    "                 turnover_rate=0, starting_value=500000, cost_basis=500000):\n",
    "        self.avg_ret = avg_ret\n",
    "        self.payout_rate = payout_rate\n",
    "        self.tax_rate_payout = tax_rate_payout\n",
    "        self.tax_rate_cap_gains = tax_rate_cap_gains\n",
    "        self.tax_rate_ord_inc = tax_rate_ord_inc\n",
    "        self.turnover_rate = turnover_rate\n",
    "        self.starting_value = starting_value\n",
    "        self.cost_basis = cost_basis\n",
    "    def IRA_value(self, horizon=30):\n",
    "        pretax_value = self.starting_value * (1+self.avg_ret)**horizon\n",
    "        aftertax_value = pretax_value * (1-self.tax_rate_ord_inc)\n",
    "        return aftertax_value\n",
    "    def Taxable_value(self, horizon=30):\n",
    "        curr_cost_basis = self.cost_basis\n",
    "        curr_value = self.starting_value\n",
    "        for year in range(1, horizon+1):\n",
    "            taxes_div = self.payout_rate * curr_value * self.tax_rate_payout\n",
    "            taxes_cap_gain = (self.turnover_rate * curr_value\n",
    "                              * self.tax_rate_cap_gains)\n",
    "            curr_cost_basis += ((self.payout_rate * curr_value)\n",
    "                               + (self.turnover_rate * curr_value)\n",
    "                               - (taxes_div + taxes_cap_gain))\n",
    "            curr_value = (curr_value * (1+self.avg_ret) \n",
    "                          - (taxes_div + taxes_cap_gain))\n",
    "        aftertax_value = (curr_value \n",
    "                          - (curr_value - curr_cost_basis) \n",
    "                          * self.tax_rate_cap_gains)\n",
    "        return aftertax_value\n",
    "    def Taxable_minus_IRA(self, horizon=30):\n",
    "        difference = (self.Taxable_value(horizon) - self.IRA_value(horizon) \n",
    "                      - self.starting_value * self.tax_rate_ord_inc)\n",
    "        return difference\n",
    "    def Roth_value(self, horizon=30):\n",
    "        aftertax_value = self.starting_value * (1+self.avg_ret)**horizon\n",
    "        return aftertax_value\n",
    "    "
   ]
  },
  {
   "cell_type": "code",
   "execution_count": 2,
   "metadata": {},
   "outputs": [],
   "source": [
    "stock = Asset()\n",
    "bond = Asset(avg_ret=0.03, payout_rate=0.03, tax_rate_payout=0.35)"
   ]
  },
  {
   "cell_type": "code",
   "execution_count": 6,
   "metadata": {},
   "outputs": [],
   "source": [
    "value_matrix = np.array([[2845360,  788860, 3270363,  345076, 4946601],\n",
    "                      [4377477, 1213631, 5031328,  530886, 7610156],\n",
    "                      [2398898,  892456, 2939715,  519872, 5876907]])"
   ]
  }
 ],
 "metadata": {
  "kernelspec": {
   "display_name": "Python 3",
   "language": "python",
   "name": "python3"
  },
  "language_info": {
   "codemirror_mode": {
    "name": "ipython",
    "version": 3
   },
   "file_extension": ".py",
   "mimetype": "text/x-python",
   "name": "python",
   "nbconvert_exporter": "python",
   "pygments_lexer": "ipython3",
   "version": "3.10.12"
  }
 },
 "nbformat": 4,
 "nbformat_minor": 2
}
