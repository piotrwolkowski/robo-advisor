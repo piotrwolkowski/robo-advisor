{
 "cells": [
  {
   "cell_type": "code",
   "execution_count": 5,
   "metadata": {},
   "outputs": [
    {
     "name": "stderr",
     "output_type": "stream",
     "text": [
      "[*********************100%%**********************]  1 of 1 completed"
     ]
    },
    {
     "name": "stdout",
     "output_type": "stream",
     "text": [
      "                  Open        High         Low       Close   Adj Close  \\\n",
      "Date                                                                     \n",
      "2023-12-22  195.179993  195.410004  192.970001  193.600006  193.091385   \n",
      "2023-12-26  193.610001  193.889999  192.830002  193.050003  192.542816   \n",
      "2023-12-27  192.490005  193.500000  191.089996  193.149994  192.642548   \n",
      "2023-12-28  194.139999  194.660004  193.169998  193.580002  193.071426   \n",
      "2023-12-29  193.899994  194.399994  191.729996  192.529999  192.024185   \n",
      "\n",
      "              Volume  \n",
      "Date                  \n",
      "2023-12-22  37122800  \n",
      "2023-12-26  28919300  \n",
      "2023-12-27  48087700  \n",
      "2023-12-28  34049900  \n",
      "2023-12-29  42628800  \n",
      "              Open         High          Low        Close    Adj Close  \\\n",
      "count  6037.000000  6037.000000  6037.000000  6037.000000  6037.000000   \n",
      "mean     35.836839    36.227569    35.461397    35.861158    34.463051   \n",
      "std      51.002750    51.568311    50.478962    51.050850    50.717337   \n",
      "min       0.231964     0.235536     0.227143     0.234286     0.198078   \n",
      "25%       2.173214     2.202500     2.130000     2.170000     1.834633   \n",
      "50%      14.465357    14.616071    14.329286    14.480714    12.332439   \n",
      "75%      41.345001    41.862499    40.869999    41.312500    39.168842   \n",
      "max     198.020004   199.619995   197.000000   198.110001   197.589523   \n",
      "\n",
      "             Volume  \n",
      "count  6.037000e+03  \n",
      "mean   3.996452e+08  \n",
      "std    3.855627e+08  \n",
      "min    2.404830e+07  \n",
      "25%    1.290580e+08  \n",
      "50%    2.810528e+08  \n",
      "75%    5.333888e+08  \n",
      "max    7.421641e+09  \n"
     ]
    },
    {
     "name": "stderr",
     "output_type": "stream",
     "text": [
      "\n"
     ]
    }
   ],
   "source": [
    "import yfinance as yf\n",
    " \n",
    "df = yf.download(\"AAPL\", start='2000-01-03', end='2023-12-30')\n",
    "print(df.tail())\n",
    "print(df.describe())"
   ]
  }
 ],
 "metadata": {
  "kernelspec": {
   "display_name": "Python 3",
   "language": "python",
   "name": "python3"
  },
  "language_info": {
   "codemirror_mode": {
    "name": "ipython",
    "version": 3
   },
   "file_extension": ".py",
   "mimetype": "text/x-python",
   "name": "python",
   "nbconvert_exporter": "python",
   "pygments_lexer": "ipython3",
   "version": "3.10.13"
  }
 },
 "nbformat": 4,
 "nbformat_minor": 2
}
