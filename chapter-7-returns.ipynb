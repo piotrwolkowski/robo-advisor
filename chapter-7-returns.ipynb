{
 "cells": [
  {
   "cell_type": "code",
   "execution_count": 2,
   "metadata": {},
   "outputs": [
    {
     "name": "stdout",
     "output_type": "stream",
     "text": [
      "The Dollar-Weighted Return is  -0.006681547693192119\n",
      "[-0.00668155]\n"
     ]
    }
   ],
   "source": [
    "from scipy.optimize import fsolve\n",
    "\n",
    "# Returns as per Chapeter 7.1.2 example\n",
    "def f(x):\n",
    "    return 10+10/(1+x)-19.8/(1+x)**2\n",
    "root = fsolve(f, 0) # 0 is the initial guess.\n",
    "print('The Dollar-Weighted Return is ', root.item())"
   ]
  },
  {
   "cell_type": "code",
   "execution_count": 3,
   "metadata": {},
   "outputs": [
    {
     "name": "stdout",
     "output_type": "stream",
     "text": [
      "The Dollar-Weighted Return is  -0.0066754853766419105\n"
     ]
    }
   ],
   "source": [
    "# Calculating returns based on a list of cashflows.\n",
    "from datetime import datetime\n",
    "\n",
    "cashflows = [10, 10, -19.8]\n",
    "dates = ['2020-01-01', '2021-01-01', '2022-01-01']\n",
    "dates = [datetime.strptime(dt, \"%Y-%m-%d\") for dt in dates]\n",
    "\n",
    "def f(x, *args):\n",
    "    cashflows, dates = args\n",
    "    sumPVs = 0\n",
    "    for i in range(len(cashflows)):\n",
    "        Y = (dates[i] - dates[0]).days/365\n",
    "        sumPVs += cashflows[i]/(1+x)**Y\n",
    "    return sumPVs\n",
    "root = fsolve(f, 0, args=(cashflows, dates))\n",
    "print('The Dollar-Weighted Return is ', root.item())"
   ]
  },
  {
   "cell_type": "code",
   "execution_count": 6,
   "metadata": {},
   "outputs": [
    {
     "name": "stderr",
     "output_type": "stream",
     "text": [
      "[*********************100%%**********************]  1 of 1 completed\n",
      "[*********************100%%**********************]  1 of 1 completed"
     ]
    },
    {
     "name": "stdout",
     "output_type": "stream",
     "text": [
      "                            OLS Regression Results                            \n",
      "==============================================================================\n",
      "Dep. Variable:                      y   R-squared:                       0.981\n",
      "Model:                            OLS   Adj. R-squared:                  0.981\n",
      "Method:                 Least Squares   F-statistic:                 1.088e+04\n",
      "Date:                Mon, 15 Jul 2024   Prob (F-statistic):          3.28e-182\n",
      "Time:                        17:59:22   Log-Likelihood:                 751.46\n",
      "No. Observations:                 211   AIC:                            -1499.\n",
      "Df Residuals:                     209   BIC:                            -1492.\n",
      "Df Model:                           1                                         \n",
      "Covariance Type:            nonrobust                                         \n",
      "==============================================================================\n",
      "                 coef    std err          t      P>|t|      [0.025      0.975]\n",
      "------------------------------------------------------------------------------\n",
      "const         -0.0004      0.000     -0.762      0.447      -0.001       0.001\n",
      "0              1.0023      0.010    104.300      0.000       0.983       1.021\n",
      "==============================================================================\n",
      "Omnibus:                        4.723   Durbin-Watson:                   1.975\n",
      "Prob(Omnibus):                  0.094   Jarque-Bera (JB):                4.507\n",
      "Skew:                          -0.270   Prob(JB):                        0.105\n",
      "Kurtosis:                       3.471   Cond. No.                         20.2\n",
      "==============================================================================\n",
      "\n",
      "Notes:\n",
      "[1] Standard Errors assume that the covariance matrix of the errors is correctly specified.\n",
      "The Information Ratio is  -0.17563455183472823\n"
     ]
    },
    {
     "name": "stderr",
     "output_type": "stream",
     "text": [
      "\n"
     ]
    }
   ],
   "source": [
    "# Return calcualtion - SUSA ESG example\n",
    "\n",
    "import pandas_datareader as pdr\n",
    "import yfinance as yf\n",
    "import statsmodels.api as sm\n",
    "import math\n",
    " \n",
    "start='2005-02-01'\n",
    "end = '2022-09-30'\n",
    "\n",
    "rf_daily = pdr.DataReader('DGS1MO', 'fred', start=start, end=end)\n",
    "ESG_prices = yf.download('SUSA', start=start, end=end)['Adj Close']\n",
    "mkt_prices = yf.download('SPY', start=start, end=end)['Adj Close']\n",
    "\n",
    "rf_monthly = rf_daily.resample('MS').first()\n",
    "\n",
    "ESG_prices_monthly = ESG_prices.resample('MS').first()\n",
    "mkt_prices_monthly = mkt_prices.resample('MS').first()\n",
    "\n",
    "ESG_returns_monthly = ESG_prices_monthly.pct_change()\n",
    "mkt_returns_monthly = mkt_prices_monthly.pct_change()\n",
    "\n",
    "y = (ESG_returns_monthly - rf_monthly['DGS1MO']/100/12).dropna()\n",
    "X = (mkt_returns_monthly - rf_monthly['DGS1MO']/100/12).dropna()\n",
    "\n",
    "# Add a column of one’s to the right-hand side of the regression using the command sm.add_constant().\n",
    "# The regression coefficient on the column of ones represents the constant or intercept of the regression,\n",
    "# which is the alpha we are trying to compute.\n",
    "X = sm.add_constant(X)\n",
    "\n",
    "model = sm.OLS(y,X)\n",
    "results = model.fit()\n",
    "\n",
    "print(results.summary())\n",
    "\n",
    "# Information ratio of the fund, with the S&P500 as the benchmark\n",
    "IR = (y-X[0]).mean()/(y-X[0]).std()*math.sqrt(12)\n",
    "\n",
    "print('The Information Ratio is ', IR)"
   ]
  }
 ],
 "metadata": {
  "kernelspec": {
   "display_name": "Python 3",
   "language": "python",
   "name": "python3"
  },
  "language_info": {
   "codemirror_mode": {
    "name": "ipython",
    "version": 3
   },
   "file_extension": ".py",
   "mimetype": "text/x-python",
   "name": "python",
   "nbconvert_exporter": "python",
   "pygments_lexer": "ipython3",
   "version": "3.10.12"
  }
 },
 "nbformat": 4,
 "nbformat_minor": 2
}
