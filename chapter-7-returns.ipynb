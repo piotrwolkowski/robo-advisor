{
 "cells": [
  {
   "cell_type": "code",
   "execution_count": 1,
   "metadata": {},
   "outputs": [
    {
     "name": "stdout",
     "output_type": "stream",
     "text": [
      "The Dollar-Weighted Return is  -0.006681547693192119\n"
     ]
    }
   ],
   "source": [
    "from scipy.optimize import fsolve\n",
    " \n",
    "def f(x):\n",
    "    return 10+10/(1+x)-19.8/(1+x)**2\n",
    "root = fsolve(f, 0)\n",
    "print('The Dollar-Weighted Return is ', root.item())\n",
    "print(root)"
   ]
  }
 ],
 "metadata": {
  "kernelspec": {
   "display_name": "Python 3",
   "language": "python",
   "name": "python3"
  },
  "language_info": {
   "codemirror_mode": {
    "name": "ipython",
    "version": 3
   },
   "file_extension": ".py",
   "mimetype": "text/x-python",
   "name": "python",
   "nbconvert_exporter": "python",
   "pygments_lexer": "ipython3",
   "version": "3.10.12"
  }
 },
 "nbformat": 4,
 "nbformat_minor": 2
}
