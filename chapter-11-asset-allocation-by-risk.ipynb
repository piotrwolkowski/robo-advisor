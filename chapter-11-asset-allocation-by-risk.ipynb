{
 "cells": [
  {
   "cell_type": "code",
   "execution_count": 1,
   "metadata": {},
   "outputs": [
    {
     "data": {
      "text/plain": [
       "array([0.9743493, 0.0256507])"
      ]
     },
     "execution_count": 1,
     "metadata": {},
     "output_type": "execute_result"
    }
   ],
   "source": [
    "import numpy as np\n",
    "p = np.array([0.6, 0.4])\n",
    "sigma = np.array([[0.0287, 0], [0, 0.0017]])\n",
    "p_var = p @ sigma @ p\n",
    "risk_contribs = np.diag(p) @ sigma @ p / (p @ sigma @ p)\n",
    "risk_contribs"
   ]
  },
  {
   "cell_type": "code",
   "execution_count": 2,
   "metadata": {},
   "outputs": [
    {
     "data": {
      "text/plain": [
       "array([0.5, 0.5])"
      ]
     },
     "execution_count": 2,
     "metadata": {},
     "output_type": "execute_result"
    }
   ],
   "source": [
    "lamb = 4.0\n",
    "gamma = 0.3\n",
    "sigma = np.array([[0.0287, 0], [0, 0.0017]])\n",
    "mu = gamma * np.sqrt(np.diag(sigma))\n",
    " \n",
    "w_star = 1.0 / lamb * np.matrix(sigma).I @ mu\n",
    "w_star = np.asarray(w_star).flatten()\n",
    " \n",
    "w_var = w_star @ sigma @ w_star     \n",
    "risk_contribs = np.diag(w_star) @ sigma @ w_star / w_var\n",
    "risk_contribs"
   ]
  },
  {
   "cell_type": "code",
   "execution_count": 3,
   "metadata": {},
   "outputs": [
    {
     "data": {
      "text/plain": [
       "matrix([[0.33333644, 0.33333653, 0.33332703]])"
      ]
     },
     "execution_count": 3,
     "metadata": {},
     "output_type": "execute_result"
    }
   ],
   "source": [
    "# Risk parity on 3 asset portfolio\n",
    "\n",
    "import cvxpy as cp\n",
    "sigma = np.matrix([[0.0225 , 0.0216 , 0.00075],   \n",
    "                   [0.0216 , 0.0324 , 0.00045], \n",
    "                   [0.00075, 0.00045, 0.0025]])\n",
    "N = sigma.shape[0]\n",
    "w = cp.Variable(N)\n",
    "gamma = 1.0\n",
    "objective = cp.Minimize(0.5 * cp.quad_form(w, sigma) - gamma * sum(cp.log(w)))\n",
    "constraints = []    \n",
    "prob = cp.Problem(objective, constraints)\n",
    "result = prob.solve()\n",
    "p = w.value\n",
    "risk_contribs = np.diag(p) @ sigma @ p / (p @ sigma @ p)\n",
    "risk_contribs"
   ]
  },
  {
   "cell_type": "code",
   "execution_count": 4,
   "metadata": {},
   "outputs": [
    {
     "name": "stderr",
     "output_type": "stream",
     "text": [
      "[*********************100%%**********************]  8 of 8 completed\n"
     ]
    },
    {
     "data": {
      "text/plain": [
       "matrix([[0.08333302, 0.08333361, 0.08333326, 0.08333317, 0.11111168,\n",
       "         0.11111111, 0.11111578, 0.33332837]])"
      ]
     },
     "execution_count": 4,
     "metadata": {},
     "output_type": "execute_result"
    }
   ],
   "source": [
    "import yfinance as yf\n",
    " \n",
    "tickers = ['VV', 'VB', 'VEA', 'VWO', 'AGG', 'BNDX', 'EMB', 'DJP']\n",
    "rets = yf.download(tickers, start='2014-01-01', end='2021-12-31')['Adj Close']\n",
    "rets = rets.pct_change().dropna(axis=0, how='any')[tickers]\n",
    "sigma = np.matrix(rets.cov().values) * 252\n",
    "                  \n",
    "N = sigma.shape[0]                 \n",
    "w = cp.Variable(N)               \n",
    "gamma = np.concatenate((np.ones(4) / 4, np.ones(3) / 3, np.ones(1) / 1))\n",
    "objective = cp.Minimize(0.5 * cp.quad_form(w, sigma) - (gamma @ cp.log(w)))         \n",
    "constraints = []          \n",
    "prob = cp.Problem(objective, constraints)\n",
    "           \n",
    "result = prob.solve()               \n",
    "p = w.value\n",
    "p_var = p @ sigma @ p               \n",
    "risk_contribs = np.diag(p) @ sigma @ p / (p @ sigma @ p)        \n",
    "risk_contribs"
   ]
  }
 ],
 "metadata": {
  "kernelspec": {
   "display_name": "Python 3",
   "language": "python",
   "name": "python3"
  },
  "language_info": {
   "codemirror_mode": {
    "name": "ipython",
    "version": 3
   },
   "file_extension": ".py",
   "mimetype": "text/x-python",
   "name": "python",
   "nbconvert_exporter": "python",
   "pygments_lexer": "ipython3",
   "version": "3.10.12"
  }
 },
 "nbformat": 4,
 "nbformat_minor": 2
}
