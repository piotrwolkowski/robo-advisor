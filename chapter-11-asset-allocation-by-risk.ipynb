{
 "cells": [
  {
   "cell_type": "code",
   "execution_count": 1,
   "metadata": {},
   "outputs": [
    {
     "data": {
      "text/plain": [
       "array([0.9743493, 0.0256507])"
      ]
     },
     "execution_count": 1,
     "metadata": {},
     "output_type": "execute_result"
    }
   ],
   "source": [
    "import numpy as np\n",
    "p = np.array([0.6, 0.4])\n",
    "sigma = np.array([[0.0287, 0], [0, 0.0017]])\n",
    "p_var = p @ sigma @ p\n",
    "risk_contribs = np.diag(p) @ sigma @ p / (p @ sigma @ p)\n",
    "risk_contribs"
   ]
  },
  {
   "cell_type": "code",
   "execution_count": 2,
   "metadata": {},
   "outputs": [
    {
     "data": {
      "text/plain": [
       "array([0.5, 0.5])"
      ]
     },
     "execution_count": 2,
     "metadata": {},
     "output_type": "execute_result"
    }
   ],
   "source": [
    "lamb = 4.0\n",
    "gamma = 0.3\n",
    "sigma = np.array([[0.0287, 0], [0, 0.0017]])\n",
    "mu = gamma * np.sqrt(np.diag(sigma))\n",
    " \n",
    "w_star = 1.0 / lamb * np.matrix(sigma).I @ mu\n",
    "w_star = np.asarray(w_star).flatten()\n",
    " \n",
    "w_var = w_star @ sigma @ w_star     \n",
    "risk_contribs = np.diag(w_star) @ sigma @ w_star / w_var\n",
    "risk_contribs"
   ]
  }
 ],
 "metadata": {
  "kernelspec": {
   "display_name": "Python 3",
   "language": "python",
   "name": "python3"
  },
  "language_info": {
   "codemirror_mode": {
    "name": "ipython",
    "version": 3
   },
   "file_extension": ".py",
   "mimetype": "text/x-python",
   "name": "python",
   "nbconvert_exporter": "python",
   "pygments_lexer": "ipython3",
   "version": "3.10.12"
  }
 },
 "nbformat": 4,
 "nbformat_minor": 2
}
